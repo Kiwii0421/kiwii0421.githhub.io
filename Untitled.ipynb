{
 "cells": [
  {
   "cell_type": "markdown",
   "id": "17270bc5",
   "metadata": {},
   "source": [
    "# CMSC 320 A Tutorial"
   ]
  },
  {
   "cell_type": "markdown",
   "id": "63c8776b",
   "metadata": {},
   "source": [
    "First of all, we need to read the csv file."
   ]
  },
  {
   "cell_type": "code",
   "execution_count": 62,
   "id": "076c58bf",
   "metadata": {},
   "outputs": [],
   "source": [
    "import numpy as np \n",
    "import pandas as pd \n",
    "import matplotlib.pyplot as plt\n",
    "import seaborn as sns\n",
    "titanic = pd.read_csv(r'titanic.csv')"
   ]
  },
  {
   "cell_type": "markdown",
   "id": "4ca85cf2",
   "metadata": {},
   "source": [
    "View statistics of passengers"
   ]
  },
  {
   "cell_type": "code",
   "execution_count": 63,
   "id": "c77d0c55",
   "metadata": {},
   "outputs": [
    {
     "data": {
      "text/html": [
       "<div>\n",
       "<style scoped>\n",
       "    .dataframe tbody tr th:only-of-type {\n",
       "        vertical-align: middle;\n",
       "    }\n",
       "\n",
       "    .dataframe tbody tr th {\n",
       "        vertical-align: top;\n",
       "    }\n",
       "\n",
       "    .dataframe thead th {\n",
       "        text-align: right;\n",
       "    }\n",
       "</style>\n",
       "<table border=\"1\" class=\"dataframe\">\n",
       "  <thead>\n",
       "    <tr style=\"text-align: right;\">\n",
       "      <th></th>\n",
       "      <th>PassengerId</th>\n",
       "      <th>Survived</th>\n",
       "      <th>Pclass</th>\n",
       "      <th>Age</th>\n",
       "      <th>SibSp</th>\n",
       "      <th>Parch</th>\n",
       "      <th>Fare</th>\n",
       "    </tr>\n",
       "  </thead>\n",
       "  <tbody>\n",
       "    <tr>\n",
       "      <th>count</th>\n",
       "      <td>891.000000</td>\n",
       "      <td>891.000000</td>\n",
       "      <td>891.000000</td>\n",
       "      <td>714.000000</td>\n",
       "      <td>891.000000</td>\n",
       "      <td>891.000000</td>\n",
       "      <td>891.000000</td>\n",
       "    </tr>\n",
       "    <tr>\n",
       "      <th>mean</th>\n",
       "      <td>446.000000</td>\n",
       "      <td>0.383838</td>\n",
       "      <td>2.308642</td>\n",
       "      <td>29.699118</td>\n",
       "      <td>0.523008</td>\n",
       "      <td>0.381594</td>\n",
       "      <td>32.204208</td>\n",
       "    </tr>\n",
       "    <tr>\n",
       "      <th>std</th>\n",
       "      <td>257.353842</td>\n",
       "      <td>0.486592</td>\n",
       "      <td>0.836071</td>\n",
       "      <td>14.526497</td>\n",
       "      <td>1.102743</td>\n",
       "      <td>0.806057</td>\n",
       "      <td>49.693429</td>\n",
       "    </tr>\n",
       "    <tr>\n",
       "      <th>min</th>\n",
       "      <td>1.000000</td>\n",
       "      <td>0.000000</td>\n",
       "      <td>1.000000</td>\n",
       "      <td>0.420000</td>\n",
       "      <td>0.000000</td>\n",
       "      <td>0.000000</td>\n",
       "      <td>0.000000</td>\n",
       "    </tr>\n",
       "    <tr>\n",
       "      <th>25%</th>\n",
       "      <td>223.500000</td>\n",
       "      <td>0.000000</td>\n",
       "      <td>2.000000</td>\n",
       "      <td>20.125000</td>\n",
       "      <td>0.000000</td>\n",
       "      <td>0.000000</td>\n",
       "      <td>7.910400</td>\n",
       "    </tr>\n",
       "    <tr>\n",
       "      <th>50%</th>\n",
       "      <td>446.000000</td>\n",
       "      <td>0.000000</td>\n",
       "      <td>3.000000</td>\n",
       "      <td>28.000000</td>\n",
       "      <td>0.000000</td>\n",
       "      <td>0.000000</td>\n",
       "      <td>14.454200</td>\n",
       "    </tr>\n",
       "    <tr>\n",
       "      <th>75%</th>\n",
       "      <td>668.500000</td>\n",
       "      <td>1.000000</td>\n",
       "      <td>3.000000</td>\n",
       "      <td>38.000000</td>\n",
       "      <td>1.000000</td>\n",
       "      <td>0.000000</td>\n",
       "      <td>31.000000</td>\n",
       "    </tr>\n",
       "    <tr>\n",
       "      <th>max</th>\n",
       "      <td>891.000000</td>\n",
       "      <td>1.000000</td>\n",
       "      <td>3.000000</td>\n",
       "      <td>80.000000</td>\n",
       "      <td>8.000000</td>\n",
       "      <td>6.000000</td>\n",
       "      <td>512.329200</td>\n",
       "    </tr>\n",
       "  </tbody>\n",
       "</table>\n",
       "</div>"
      ],
      "text/plain": [
       "       PassengerId    Survived      Pclass         Age       SibSp  \\\n",
       "count   891.000000  891.000000  891.000000  714.000000  891.000000   \n",
       "mean    446.000000    0.383838    2.308642   29.699118    0.523008   \n",
       "std     257.353842    0.486592    0.836071   14.526497    1.102743   \n",
       "min       1.000000    0.000000    1.000000    0.420000    0.000000   \n",
       "25%     223.500000    0.000000    2.000000   20.125000    0.000000   \n",
       "50%     446.000000    0.000000    3.000000   28.000000    0.000000   \n",
       "75%     668.500000    1.000000    3.000000   38.000000    1.000000   \n",
       "max     891.000000    1.000000    3.000000   80.000000    8.000000   \n",
       "\n",
       "            Parch        Fare  \n",
       "count  891.000000  891.000000  \n",
       "mean     0.381594   32.204208  \n",
       "std      0.806057   49.693429  \n",
       "min      0.000000    0.000000  \n",
       "25%      0.000000    7.910400  \n",
       "50%      0.000000   14.454200  \n",
       "75%      0.000000   31.000000  \n",
       "max      6.000000  512.329200  "
      ]
     },
     "execution_count": 63,
     "metadata": {},
     "output_type": "execute_result"
    }
   ],
   "source": [
    "titanic.head()\n",
    "titanic.describe()"
   ]
  },
  {
   "cell_type": "markdown",
   "id": "6c36eb0b",
   "metadata": {},
   "source": [
    "Check the null val"
   ]
  },
  {
   "cell_type": "code",
   "execution_count": 64,
   "id": "a56adbd5",
   "metadata": {},
   "outputs": [
    {
     "name": "stdout",
     "output_type": "stream",
     "text": [
      "<class 'pandas.core.frame.DataFrame'>\n",
      "RangeIndex: 891 entries, 0 to 890\n",
      "Data columns (total 12 columns):\n",
      " #   Column       Non-Null Count  Dtype  \n",
      "---  ------       --------------  -----  \n",
      " 0   PassengerId  891 non-null    int64  \n",
      " 1   Survived     891 non-null    int64  \n",
      " 2   Pclass       891 non-null    int64  \n",
      " 3   Name         891 non-null    object \n",
      " 4   Sex          891 non-null    object \n",
      " 5   Age          714 non-null    float64\n",
      " 6   SibSp        891 non-null    int64  \n",
      " 7   Parch        891 non-null    int64  \n",
      " 8   Ticket       891 non-null    object \n",
      " 9   Fare         891 non-null    float64\n",
      " 10  Cabin        204 non-null    object \n",
      " 11  Embarked     889 non-null    object \n",
      "dtypes: float64(2), int64(5), object(5)\n",
      "memory usage: 83.7+ KB\n"
     ]
    }
   ],
   "source": [
    "titanic.info()"
   ]
  },
  {
   "cell_type": "markdown",
   "id": "82c17dca",
   "metadata": {},
   "source": [
    "We can see there are (891-714),(891-204),(891-889) null value in Age,Cabin,Embarked.\n",
    "For Age, we use AVERAGE to fill the blank.\n",
    "For Embarked\n",
    "For Cabin,we will drop this colume soon."
   ]
  },
  {
   "cell_type": "code",
   "execution_count": 65,
   "id": "95826bf6",
   "metadata": {},
   "outputs": [],
   "source": [
    "titanic['Age'] =titanic['Age'].fillna(titanic['Age'].mean())\n",
    "titanic['Embarked'].value_counts()\n",
    "titanic['Embarked'] =titanic['Embarked'].fillna('S')# 646:168:77"
   ]
  },
  {
   "cell_type": "markdown",
   "id": "8d7a2087",
   "metadata": {},
   "source": [
    "Sex is string type now, convert into 1/0"
   ]
  },
  {
   "cell_type": "code",
   "execution_count": 66,
   "id": "954011fa",
   "metadata": {},
   "outputs": [],
   "source": [
    "isMale = {'male':1,'female':0}\n",
    "titanic['Sex'] = titanic['Sex'].map(isMale)"
   ]
  },
  {
   "cell_type": "markdown",
   "id": "8c3ed632",
   "metadata": {},
   "source": [
    "We cross analyzed Pclass and survival"
   ]
  },
  {
   "cell_type": "code",
   "execution_count": 67,
   "id": "2625c5e8",
   "metadata": {},
   "outputs": [
    {
     "data": {
      "image/png": "[encoded data removed]",
      "text/plain": [
       "<Figure size 432x288 with 1 Axes>"
      ]
     },
     "metadata": {
      "needs_background": "light"
     },
     "output_type": "display_data"
    }
   ],
   "source": [
    "class_survived=titanic[['Pclass','Survived']]\n",
    "y_live=class_survived[class_survived.Survived==1].groupby('Pclass')['Survived'].count()\n",
    "y_dead=class_survived[class_survived.Survived==0].groupby('Pclass')['Survived'].count()\n",
    "pos=range(1,4)\n",
    "defination=['class%d'%(i) for i in range(1,4)]\n",
    "plt.bar(pos,y_live,label='survived')\n",
    "plt.bar(pos,y_dead,bottom=y_live,label='not survived')\n",
    "plt.legend()\n",
    "plt.xticks(pos,defination)\n",
    "plt.title('Pclass Surveved count')\n",
    "plt.show()\n",
    "\n"
   ]
  },
  {
   "cell_type": "markdown",
   "id": "e39e9f1a",
   "metadata": {},
   "source": [
    "We cross analyzed gender and survival"
   ]
  },
  {
   "cell_type": "code",
   "execution_count": 68,
   "id": "da2d38ab",
   "metadata": {},
   "outputs": [
    {
     "data": {
      "image/png": "[encoded data removed]",
      "text/plain": [
       "<Figure size 432x288 with 1 Axes>"
      ]
     },
     "metadata": {
      "needs_background": "light"
     },
     "output_type": "display_data"
    }
   ],
   "source": [
    "sex_survived=titanic[['Sex','Survived']]\n",
    "y_male=[0,0] #live/die\n",
    "y_female=[0,0]#live/die\n",
    "for i in range(len(sex_survived.Sex)):\n",
    "    if sex_survived.Sex[i]:#male = 1, famale = 0\n",
    "        if sex_survived.Survived[i]==0:\n",
    "            y_male[0]+=1\n",
    "        else:\n",
    "            y_male[1]+=1\n",
    "    else:\n",
    "        if sex_survived.Survived[i]==0:\n",
    "            y_female[0]+=1\n",
    "        else:\n",
    "            y_female[1]+=1\n",
    "x_number=range(1,3)\n",
    "x_word=['survived','not survived']\n",
    "plt.bar(x_number,y_male,label='male')\n",
    "plt.bar(x_number,y_female,bottom=y_male,label='female')\n",
    "plt.legend()\n",
    "plt.xticks(x_number,x_word)\n",
    "plt.show()"
   ]
  },
  {
   "cell_type": "code",
   "execution_count": 69,
   "id": "172641bd",
   "metadata": {},
   "outputs": [
    {
     "name": "stdout",
     "output_type": "stream",
     "text": [
      "          Survived    Pclass       Age     SibSp     Parch      Fare       Sex\n",
      "Survived  1.000000 -0.338481 -0.069809 -0.035322  0.081629  0.257307 -0.543351\n",
      "Pclass   -0.338481  1.000000 -0.331339  0.083081  0.018443 -0.549500  0.131900\n",
      "Age      -0.069809 -0.331339  1.000000 -0.232625 -0.179191  0.091566  0.084153\n",
      "SibSp    -0.035322  0.083081 -0.232625  1.000000  0.414838  0.159651 -0.114631\n",
      "Parch     0.081629  0.018443 -0.179191  0.414838  1.000000  0.216225 -0.245489\n",
      "Fare      0.257307 -0.549500  0.091566  0.159651  0.216225  1.000000 -0.182333\n",
      "Sex      -0.543351  0.131900  0.084153 -0.114631 -0.245489 -0.182333  1.000000\n"
     ]
    },
    {
     "data": {
      "image/png": "[encoded data removed]",
      "text/plain": [
       "<Figure size 432x288 with 2 Axes>"
      ]
     },
     "metadata": {
      "needs_background": "light"
     },
     "output_type": "display_data"
    }
   ],
   "source": [
    "data=titanic[['Survived','Pclass','Age','SibSp','Parch','Fare','Sex']]\n",
    "data=data.corr()\n",
    "print(data)\n",
    "sns.heatmap(data)\n",
    "plt.title('train corr')\n",
    "plt.show()"
   ]
  },
  {
   "cell_type": "markdown",
   "id": "33efb861",
   "metadata": {},
   "source": [
    "As a continuous variable, fare can also be used for analysis.\n",
    "We ignore the future warning."
   ]
  },
  {
   "cell_type": "code",
   "execution_count": 70,
   "id": "2f528015",
   "metadata": {},
   "outputs": [
    {
     "data": {
      "image/png": "[encoded data removed]",
      "text/plain": [
       "<Figure size 432x288 with 1 Axes>"
      ]
     },
     "metadata": {
      "needs_background": "light"
     },
     "output_type": "display_data"
    }
   ],
   "source": [
    "import warnings \n",
    "warnings.filterwarnings('ignore')\n",
    "fare_survived=titanic[['Fare','Survived']]\n",
    "sns.distplot(fare_survived[fare_survived.Survived==1].Fare,hist=False,label='Survived')\n",
    "sns.distplot(fare_survived[fare_survived.Survived==0].Fare,hist=False,label='Dead')\n",
    "plt.title('Fare and Survived')\n",
    "plt.show()"
   ]
  },
  {
   "cell_type": "markdown",
   "id": "61db9609",
   "metadata": {},
   "source": [
    "Family size and title analysis in progress."
   ]
  },
  {
   "cell_type": "code",
   "execution_count": null,
   "id": "8d513511",
   "metadata": {},
   "outputs": [],
   "source": []
  }
 ],
 "metadata": {
  "kernelspec": {
   "display_name": "Python 3 (ipykernel)",
   "language": "python",
   "name": "python3"
  },
  "language_info": {
   "codemirror_mode": {
    "name": "ipython",
    "version": 3
   },
   "file_extension": ".py",
   "mimetype": "text/x-python",
   "name": "python",
   "nbconvert_exporter": "python",
   "pygments_lexer": "ipython3",
   "version": "3.10.4"
  }
 },
 "nbformat": 4,
 "nbformat_minor": 5
}
